{
 "cells": [
  {
   "cell_type": "markdown",
   "metadata": {},
   "source": [
    "## Week 5"
   ]
  },
  {
   "cell_type": "code",
   "execution_count": 1,
   "metadata": {},
   "outputs": [],
   "source": [
    "#import numpy and pandas, and DataFrame / Series\n",
    "import pandas as pd\n",
    "import numpy as np\n",
    "from pandas import DataFrame, Series\n",
    "import datetime "
   ]
  },
  {
   "cell_type": "code",
   "execution_count": 10,
   "metadata": {},
   "outputs": [
    {
     "name": "stdout",
     "output_type": "stream",
     "text": [
      "      faa                                  name        lat         lon   alt  \\\n",
      "0     04G                     Lansdowne Airport  41.130472  -80.619583  1044   \n",
      "1     06A         Moton Field Municipal Airport  32.460572  -85.680028   264   \n",
      "2     06C                   Schaumburg Regional  41.989341  -88.101243   801   \n",
      "3     06N                       Randall Airport  41.431912  -74.391561   523   \n",
      "4     09J                 Jekyll Island Airport  31.074472  -81.427778    11   \n",
      "5     0A9        Elizabethton Municipal Airport  36.371222  -82.173417  1593   \n",
      "6     0G6               Williams County Airport  41.467306  -84.506778   730   \n",
      "7     0G7         Finger Lakes Regional Airport  42.883565  -76.781232   492   \n",
      "8     0P2          Shoestring Aviation Airfield  39.794824  -76.647191  1000   \n",
      "9     0S9                 Jefferson County Intl  48.053809 -122.810644   108   \n",
      "10    0W3                Harford County Airport  39.566838  -76.202403   409   \n",
      "11    10C                    Galt Field Airport  42.402889  -88.375111   875   \n",
      "12    17G  Port Bucyrus-Crawford County Airport  40.781556  -82.974806  1003   \n",
      "13    19A                Jackson County Airport  34.175864  -83.561597   951   \n",
      "14    1A3         Martin Campbell Field Airport  35.015806  -84.346833  1789   \n",
      "15    1B9                   Mansfield Municipal  42.000133  -71.196771   122   \n",
      "16    1C9                  Frazier Lake Airpark  54.013333 -124.768333   152   \n",
      "17    1CS            Clow International Airport  41.695974  -88.129231   670   \n",
      "18    1G3                    Kent State Airport  41.151389  -81.415111  1134   \n",
      "19    1G4             Grand Canyon West Airport  35.899904 -113.815674  4813   \n",
      "20    1H2            Effingham Memorial Airport  39.070000  -88.534000   585   \n",
      "21    1OH                       Fortman Airport  40.555325  -84.386619   885   \n",
      "22    1RL                 Point Roberts Airpark  48.979722 -123.078889    10   \n",
      "23    23M                             Clarke CO  32.051700  -88.443400   320   \n",
      "24    24C                   Lowell City Airport  42.953920  -85.343906   681   \n",
      "25    24J               Suwannee County Airport  30.300125  -83.024694   104   \n",
      "26    25D                   Forest Lake Airport  45.247746  -92.994385   925   \n",
      "27    29D                    Grove City Airport  41.146028  -80.167750  1371   \n",
      "28    2A0                    Mark Anton Airport  35.486250  -84.931083   718   \n",
      "29    2B2                   Plum Island Airport  42.795361  -70.839444    11   \n",
      "...   ...                                   ...        ...         ...   ...   \n",
      "1428  X59                    Valkaria Municipal  27.960861  -80.558333    26   \n",
      "1429  XFL                Flagler County Airport  29.282100  -81.121200    33   \n",
      "1430  XNA                  NW Arkansas Regional  36.281869  -94.306811  1287   \n",
      "1431  XZK            Amherst Amtrak Station AMM  42.375000  -72.511389   258   \n",
      "1432  Y51                     Municipal Airport  43.579360  -90.896474  1292   \n",
      "1433  Y72                          Bloyer Field  43.976222  -90.480611   966   \n",
      "1434  YAK                               Yakutat  59.301200 -139.393700    33   \n",
      "1435  YIP                            Willow Run  42.237928  -83.530408   716   \n",
      "1436  YKM  Yakima Air Terminal McAllister Field  46.568200 -120.544000  1095   \n",
      "1437  YKN                           Chan Gurney  42.871100  -97.396900  1200   \n",
      "1438  YNG                Youngstown Warren Rgnl  41.260736  -80.679097  1196   \n",
      "1439  YUM                   Yuma Mcas Yuma Intl  32.656578 -114.605980   216   \n",
      "1440  Z84                                 Clear  64.301203 -149.120144   552   \n",
      "1441  ZBP                          Penn Station  39.307222  -76.615556    66   \n",
      "1442  ZFV          Philadelphia 30th St Station  39.955700  -75.182000     0   \n",
      "1443  ZPH                     Municipal Airport  28.228056  -82.155833    90   \n",
      "1444  ZRA           Atlantic City Rail Terminal  39.366500  -74.442000     8   \n",
      "1445  ZRD                         Train Station  37.534300  -77.429450    26   \n",
      "1446  ZRP                   Newark Penn Station  40.734722  -74.164167     0   \n",
      "1447  ZRT                Hartford Union Station  41.768880  -72.681500     0   \n",
      "1448  ZRZ           New Carrollton Rail Station  38.948000  -76.871900    39   \n",
      "1449  ZSF            Springfield Amtrak Station  42.106000  -72.593054    65   \n",
      "1450  ZSY                    Scottsdale Airport  33.622889 -111.910528  1519   \n",
      "1451  ZTF               Stamford Amtrak Station  41.046937  -73.541493     0   \n",
      "1452  ZTY               Boston Back Bay Station  42.347800  -71.075000    20   \n",
      "1453  ZUN                            Black Rock  35.083228 -108.791778  6454   \n",
      "1454  ZVE                New Haven Rail Station  41.298669  -72.925992     7   \n",
      "1455  ZWI             Wilmington Amtrak Station  39.736667  -75.551667     0   \n",
      "1456  ZWU              Washington Union Station  38.897460  -77.006430    76   \n",
      "1457  ZYP                          Penn Station  40.750500  -73.993500    35   \n",
      "\n",
      "      tz dst                tzone  \n",
      "0     -5   A     America/New_York  \n",
      "1     -6   A      America/Chicago  \n",
      "2     -6   A      America/Chicago  \n",
      "3     -5   A     America/New_York  \n",
      "4     -5   A     America/New_York  \n",
      "5     -5   A     America/New_York  \n",
      "6     -5   A     America/New_York  \n",
      "7     -5   A     America/New_York  \n",
      "8     -5   U     America/New_York  \n",
      "9     -8   A  America/Los_Angeles  \n",
      "10    -5   A     America/New_York  \n",
      "11    -6   U      America/Chicago  \n",
      "12    -5   A     America/New_York  \n",
      "13    -5   U     America/New_York  \n",
      "14    -5   A     America/New_York  \n",
      "15    -5   A     America/New_York  \n",
      "16    -8   A    America/Vancouver  \n",
      "17    -6   U      America/Chicago  \n",
      "18    -5   A     America/New_York  \n",
      "19    -7   A      America/Phoenix  \n",
      "20    -6   A      America/Chicago  \n",
      "21    -5   U     America/New_York  \n",
      "22    -8   A  America/Los_Angeles  \n",
      "23    -6   A      America/Chicago  \n",
      "24    -5   A     America/New_York  \n",
      "25    -5   A     America/New_York  \n",
      "26    -6   A      America/Chicago  \n",
      "27    -5   A     America/New_York  \n",
      "28    -5   A     America/New_York  \n",
      "29    -5   A     America/New_York  \n",
      "...   ..  ..                  ...  \n",
      "1428  -5   A     America/New_York  \n",
      "1429  -5   A     America/New_York  \n",
      "1430  -6   A      America/Chicago  \n",
      "1431  -5   A     America/New_York  \n",
      "1432  -6   A      America/Chicago  \n",
      "1433  -6   A      America/Chicago  \n",
      "1434  -9   A                  NaN  \n",
      "1435  -5   A     America/New_York  \n",
      "1436  -8   A  America/Los_Angeles  \n",
      "1437  -6   A      America/Chicago  \n",
      "1438  -5   A     America/New_York  \n",
      "1439  -7   N      America/Phoenix  \n",
      "1440  -9   A    America/Anchorage  \n",
      "1441  -5   A     America/New_York  \n",
      "1442  -5   A     America/New_York  \n",
      "1443  -5   A     America/New_York  \n",
      "1444  -5   A     America/New_York  \n",
      "1445  -5   A     America/New_York  \n",
      "1446  -5   A     America/New_York  \n",
      "1447  -5   A     America/New_York  \n",
      "1448  -5   A     America/New_York  \n",
      "1449  -5   A     America/New_York  \n",
      "1450  -7   A      America/Phoenix  \n",
      "1451  -5   A     America/New_York  \n",
      "1452  -5   A     America/New_York  \n",
      "1453  -7   A       America/Denver  \n",
      "1454  -5   A     America/New_York  \n",
      "1455  -5   A     America/New_York  \n",
      "1456  -5   A     America/New_York  \n",
      "1457  -5   A     America/New_York  \n",
      "\n",
      "[1458 rows x 8 columns]\n"
     ]
    }
   ],
   "source": [
    "#Read data from file 'airports.csv' \n",
    "data = pd.read_csv(\"C:/Users/KATERINE/Documents/cuny classes/DATA ACQ AND MANAGEM/week5/airports.csv\", encoding='latin-1')\n",
    "df = pd.DataFrame(data, columns= ['faa', 'name', 'lat', 'lon', 'alt', 'tz', 'dst', 'tzone'])\n",
    "print (df)"
   ]
  },
  {
   "cell_type": "code",
   "execution_count": 5,
   "metadata": {},
   "outputs": [
    {
     "data": {
      "text/plain": [
       "(1458, 8)"
      ]
     },
     "execution_count": 5,
     "metadata": {},
     "output_type": "execute_result"
    }
   ],
   "source": [
    "#Total rows and columns in the dataset\n",
    "data.shape"
   ]
  },
  {
   "cell_type": "code",
   "execution_count": 16,
   "metadata": {},
   "outputs": [
    {
     "data": {
      "text/plain": [
       "faa                          EEN\n",
       "name     Dillant Hopkins Airport\n",
       "lat                      72.2708\n",
       "lon                      42.8983\n",
       "alt                          149\n",
       "tz                            -5\n",
       "dst                            A\n",
       "tzone                        NaN\n",
       "Name: 417, dtype: object"
      ]
     },
     "execution_count": 16,
     "metadata": {},
     "output_type": "execute_result"
    }
   ],
   "source": [
    "#Finding the northernmost airport in the United States\n",
    "data.loc[data['lat'].idxmax()]"
   ]
  },
  {
   "cell_type": "markdown",
   "metadata": {},
   "source": [
    "*The northernmost airport in the United States is Dillant Hopkins Airport*"
   ]
  },
  {
   "cell_type": "code",
   "execution_count": 18,
   "metadata": {},
   "outputs": [
    {
     "data": {
      "text/plain": [
       "faa                    SYA\n",
       "name          Eareckson As\n",
       "lat                52.7123\n",
       "lon                174.114\n",
       "alt                     98\n",
       "tz                      -9\n",
       "dst                      A\n",
       "tzone    America/Anchorage\n",
       "Name: 1290, dtype: object"
      ]
     },
     "execution_count": 18,
     "metadata": {},
     "output_type": "execute_result"
    }
   ],
   "source": [
    "#Finding the easternmost airport in the United States\n",
    "data.loc[data['lon'].idxmax()]"
   ]
  },
  {
   "cell_type": "markdown",
   "metadata": {},
   "source": [
    "*The easternmost airport in the United States is Eareckson As*"
   ]
  },
  {
   "cell_type": "code",
   "execution_count": 19,
   "metadata": {},
   "outputs": [
    {
     "name": "stdout",
     "output_type": "stream",
     "text": [
      "      origin  year  month  day  hour   temp   dewp  humid  wind_dir  \\\n",
      "0        EWR  2013      1    1     1  39.02  26.06  59.37     270.0   \n",
      "1        EWR  2013      1    1     2  39.02  26.96  61.63     250.0   \n",
      "2        EWR  2013      1    1     3  39.02  28.04  64.43     240.0   \n",
      "3        EWR  2013      1    1     4  39.92  28.04  62.21     250.0   \n",
      "4        EWR  2013      1    1     5  39.02  28.04  64.43     260.0   \n",
      "5        EWR  2013      1    1     6  37.94  28.04  67.21     240.0   \n",
      "6        EWR  2013      1    1     7  39.02  28.04  64.43     240.0   \n",
      "7        EWR  2013      1    1     8  39.92  28.04  62.21     250.0   \n",
      "8        EWR  2013      1    1     9  39.92  28.04  62.21     260.0   \n",
      "9        EWR  2013      1    1    10  41.00  28.04  59.65     260.0   \n",
      "10       EWR  2013      1    1    11  41.00  26.96  57.06     260.0   \n",
      "11       EWR  2013      1    1    13  39.20  28.40  69.67     330.0   \n",
      "12       EWR  2013      1    1    14  39.02  24.08  54.68     280.0   \n",
      "13       EWR  2013      1    1    15  37.94  24.08  57.04     290.0   \n",
      "14       EWR  2013      1    1    16  37.04  19.94  49.62     300.0   \n",
      "15       EWR  2013      1    1    17  35.96  19.04  49.83     330.0   \n",
      "16       EWR  2013      1    1    18  33.98  15.08  45.43     310.0   \n",
      "17       EWR  2013      1    1    19  33.08  12.92  42.84     320.0   \n",
      "18       EWR  2013      1    1    20  32.00  15.08  49.19     310.0   \n",
      "19       EWR  2013      1    1    21  30.02  12.92  48.48     320.0   \n",
      "20       EWR  2013      1    1    22  28.94  12.02  48.69     320.0   \n",
      "21       EWR  2013      1    1    23  28.04  10.94  48.15     310.0   \n",
      "22       EWR  2013      1    2     0  26.96  10.94  50.34     310.0   \n",
      "23       EWR  2013      1    2     1  26.06  10.94  52.25     330.0   \n",
      "24       EWR  2013      1    2     2  24.98  10.94  54.65     330.0   \n",
      "25       EWR  2013      1    2     3  24.08   8.96  51.93     320.0   \n",
      "26       EWR  2013      1    2     4  24.08   8.96  51.93     330.0   \n",
      "27       EWR  2013      1    2     5  24.08   8.96  51.93     330.0   \n",
      "28       EWR  2013      1    2     6  24.08   8.96  51.93     310.0   \n",
      "29       EWR  2013      1    2     7  24.98  10.04  52.50     300.0   \n",
      "...      ...   ...    ...  ...   ...    ...    ...    ...       ...   \n",
      "26085    LGA  2013     12   29    13  42.80  37.94  88.76      70.0   \n",
      "26086    LGA  2013     12   29    14  41.00  37.94  93.19      60.0   \n",
      "26087    LGA  2013     12   29    15  41.00  39.02  92.59      40.0   \n",
      "26088    LGA  2013     12   29    16  41.00  37.94  88.76     350.0   \n",
      "26089    LGA  2013     12   29    17  44.06  41.00  93.24     350.0   \n",
      "26090    LGA  2013     12   29    18  42.08  39.02  88.81     330.0   \n",
      "26091    LGA  2013     12   29    19  42.80  37.94  85.13     320.0   \n",
      "26092    LGA  2013     12   29    20  42.08  37.94  86.89     320.0   \n",
      "26093    LGA  2013     12   29    21  42.80  37.40  82.17     320.0   \n",
      "26094    LGA  2013     12   29    22  42.98  37.04  79.38     300.0   \n",
      "26095    LGA  2013     12   29    23  42.98  35.06  73.39     310.0   \n",
      "26096    LGA  2013     12   30     0  42.08  33.98  72.78     320.0   \n",
      "26097    LGA  2013     12   30     1  42.08  33.98  72.78     250.0   \n",
      "26098    LGA  2013     12   30     2  41.00  33.98  75.88     240.0   \n",
      "26099    LGA  2013     12   30     3  42.98  33.98  70.30     270.0   \n",
      "26100    LGA  2013     12   30     4  41.00  33.08  73.19       0.0   \n",
      "26101    LGA  2013     12   30     5  42.98  33.08  67.81     250.0   \n",
      "26102    LGA  2013     12   30     6  42.98  33.98  70.30     230.0   \n",
      "26103    LGA  2013     12   30     7  44.06  35.06  70.42     240.0   \n",
      "26104    LGA  2013     12   30     8  44.06  33.98  67.45     260.0   \n",
      "26105    LGA  2013     12   30     9  44.06  33.08  65.07     260.0   \n",
      "26106    LGA  2013     12   30    10  42.98  33.80  70.28     330.0   \n",
      "26107    LGA  2013     12   30    11  41.00  28.40  62.21     340.0   \n",
      "26108    LGA  2013     12   30    12  37.94  23.00  54.51     330.0   \n",
      "26109    LGA  2013     12   30    13  37.04  21.92  53.97     340.0   \n",
      "26110    LGA  2013     12   30    14  35.96  19.94  51.78     340.0   \n",
      "26111    LGA  2013     12   30    15  33.98  17.06  49.51     330.0   \n",
      "26112    LGA  2013     12   30    16  32.00  15.08  49.19     340.0   \n",
      "26113    LGA  2013     12   30    17  30.92  12.92  46.74     320.0   \n",
      "26114    LGA  2013     12   30    18  28.94  10.94  46.41     330.0   \n",
      "\n",
      "       wind_speed  wind_gust  precip  pressure  visib             time_hour  \n",
      "0        10.35702        NaN    0.00    1012.0  10.00  2013-01-01T06:00:00Z  \n",
      "1         8.05546        NaN    0.00    1012.3  10.00  2013-01-01T07:00:00Z  \n",
      "2        11.50780        NaN    0.00    1012.5  10.00  2013-01-01T08:00:00Z  \n",
      "3        12.65858        NaN    0.00    1012.2  10.00  2013-01-01T09:00:00Z  \n",
      "4        12.65858        NaN    0.00    1011.9  10.00  2013-01-01T10:00:00Z  \n",
      "5        11.50780        NaN    0.00    1012.4  10.00  2013-01-01T11:00:00Z  \n",
      "6        14.96014        NaN    0.00    1012.2  10.00  2013-01-01T12:00:00Z  \n",
      "7        10.35702        NaN    0.00    1012.2  10.00  2013-01-01T13:00:00Z  \n",
      "8        14.96014        NaN    0.00    1012.7  10.00  2013-01-01T14:00:00Z  \n",
      "9        13.80936        NaN    0.00    1012.4  10.00  2013-01-01T15:00:00Z  \n",
      "10       14.96014        NaN    0.00    1011.4  10.00  2013-01-01T16:00:00Z  \n",
      "11       16.11092        NaN    0.00       NaN  10.00  2013-01-01T18:00:00Z  \n",
      "12       13.80936        NaN    0.00    1010.8  10.00  2013-01-01T19:00:00Z  \n",
      "13        9.20624        NaN    0.00    1011.9  10.00  2013-01-01T20:00:00Z  \n",
      "14       13.80936   20.71404    0.00    1012.1  10.00  2013-01-01T21:00:00Z  \n",
      "15       11.50780        NaN    0.00    1013.2  10.00  2013-01-01T22:00:00Z  \n",
      "16       12.65858   25.31716    0.00    1014.1  10.00  2013-01-01T23:00:00Z  \n",
      "17       10.35702        NaN    0.00    1014.4  10.00  2013-01-02T00:00:00Z  \n",
      "18       14.96014        NaN    0.00    1015.2  10.00  2013-01-02T01:00:00Z  \n",
      "19       18.41248   26.46794    0.00    1016.0  10.00  2013-01-02T02:00:00Z  \n",
      "20       18.41248   25.31716    0.00    1016.5  10.00  2013-01-02T03:00:00Z  \n",
      "21       16.11092        NaN    0.00    1016.4  10.00  2013-01-02T04:00:00Z  \n",
      "22       14.96014   25.31716    0.00    1016.3  10.00  2013-01-02T05:00:00Z  \n",
      "23       12.65858   24.16638    0.00    1016.3  10.00  2013-01-02T06:00:00Z  \n",
      "24       13.80936        NaN    0.00    1017.0  10.00  2013-01-02T07:00:00Z  \n",
      "25       14.96014        NaN    0.00    1016.6  10.00  2013-01-02T08:00:00Z  \n",
      "26       12.65858        NaN    0.00    1016.9  10.00  2013-01-02T09:00:00Z  \n",
      "27        6.90468        NaN    0.00    1016.9  10.00  2013-01-02T10:00:00Z  \n",
      "28        3.45234        NaN    0.00    1017.2  10.00  2013-01-02T11:00:00Z  \n",
      "29        6.90468        NaN    0.00    1017.6  10.00  2013-01-02T12:00:00Z  \n",
      "...           ...        ...     ...       ...    ...                   ...  \n",
      "26085    12.65858        NaN    0.19       NaN   2.50  2013-12-29T18:00:00Z  \n",
      "26086    18.41248        NaN    0.21       NaN   1.75  2013-12-29T19:00:00Z  \n",
      "26087    13.80936        NaN    0.37     999.9   1.50  2013-12-29T20:00:00Z  \n",
      "26088     8.05546   23.01560    0.28     998.7   1.50  2013-12-29T21:00:00Z  \n",
      "26089    20.71404        NaN    0.04       NaN   5.00  2013-12-29T22:00:00Z  \n",
      "26090    14.96014        NaN    0.00     997.2   3.00  2013-12-29T23:00:00Z  \n",
      "26091    17.26170        NaN    0.00       NaN   8.00  2013-12-30T00:00:00Z  \n",
      "26092    19.56326        NaN    0.00       NaN  10.00  2013-12-30T01:00:00Z  \n",
      "26093    16.11092        NaN    0.00       NaN  10.00  2013-12-30T02:00:00Z  \n",
      "26094     9.20624        NaN    0.00    1003.8  10.00  2013-12-30T03:00:00Z  \n",
      "26095    17.26170   24.16638    0.00    1005.1  10.00  2013-12-30T04:00:00Z  \n",
      "26096    11.50780        NaN    0.00    1005.9  10.00  2013-12-30T05:00:00Z  \n",
      "26097     9.20624        NaN    0.00    1007.6  10.00  2013-12-30T06:00:00Z  \n",
      "26098     8.05546        NaN    0.00    1008.3  10.00  2013-12-30T07:00:00Z  \n",
      "26099     9.20624        NaN    0.00    1008.2  10.00  2013-12-30T08:00:00Z  \n",
      "26100     0.00000        NaN    0.00    1008.9  10.00  2013-12-30T09:00:00Z  \n",
      "26101    10.35702        NaN    0.00    1009.2  10.00  2013-12-30T10:00:00Z  \n",
      "26102     6.90468        NaN    0.00    1010.8  10.00  2013-12-30T11:00:00Z  \n",
      "26103    11.50780        NaN    0.00    1011.9  10.00  2013-12-30T12:00:00Z  \n",
      "26104    11.50780        NaN    0.00    1012.9  10.00  2013-12-30T13:00:00Z  \n",
      "26105    13.80936        NaN    0.00    1013.7  10.00  2013-12-30T14:00:00Z  \n",
      "26106    16.11092        NaN    0.00       NaN  10.00  2013-12-30T15:00:00Z  \n",
      "26107    13.80936   23.01560    0.00       NaN  10.00  2013-12-30T16:00:00Z  \n",
      "26108    21.86482   27.61872    0.00    1015.7  10.00  2013-12-30T17:00:00Z  \n",
      "26109    17.26170   20.71404    0.00    1016.5  10.00  2013-12-30T18:00:00Z  \n",
      "26110    13.80936   21.86482    0.00    1017.1  10.00  2013-12-30T19:00:00Z  \n",
      "26111    17.26170   21.86482    0.00    1018.8  10.00  2013-12-30T20:00:00Z  \n",
      "26112    14.96014   23.01560    0.00    1019.5  10.00  2013-12-30T21:00:00Z  \n",
      "26113    17.26170        NaN    0.00    1019.9  10.00  2013-12-30T22:00:00Z  \n",
      "26114    18.41248        NaN    0.00    1020.9  10.00  2013-12-30T23:00:00Z  \n",
      "\n",
      "[26115 rows x 15 columns]\n"
     ]
    }
   ],
   "source": [
    "#Read data from file 'weather.csv' \n",
    "data = pd.read_csv(\"C:/Users/KATERINE/Documents/cuny classes/DATA ACQ AND MANAGEM/week5/weather.csv\", encoding='latin-1')\n",
    "df = pd.DataFrame(data, columns= ['origin', 'year', 'month', 'day', 'hour', 'temp', 'dewp', 'humid', 'wind_dir', 'wind_speed', 'wind_gust', 'precip', 'pressure', 'visib', 'time_hour'])\n",
    "print (df)"
   ]
  },
  {
   "cell_type": "code",
   "execution_count": 35,
   "metadata": {},
   "outputs": [
    {
     "data": {
      "text/plain": [
       "origin                         LGA\n",
       "year                          2013\n",
       "month                            2\n",
       "day                             12\n",
       "hour                            23\n",
       "temp                         46.94\n",
       "dewp                         39.02\n",
       "humid                        96.55\n",
       "wind_dir                       310\n",
       "wind_speed                 1048.36\n",
       "wind_gust                  31.0711\n",
       "precip                           0\n",
       "pressure                    1015.1\n",
       "visib                           10\n",
       "time_hour     2013-02-13T04:00:00Z\n",
       "dtype: object"
      ]
     },
     "execution_count": 35,
     "metadata": {},
     "output_type": "execute_result"
    }
   ],
   "source": [
    "#On February 12th, 2013, which New York area airport had the windiest weather\n",
    "data[(data.month == 2) & (data.day == 12)].max()"
   ]
  },
  {
   "cell_type": "markdown",
   "metadata": {},
   "source": [
    "*On February 12th, 2013, the New York area airport had the windiest weather was LGA*"
   ]
  },
  {
   "cell_type": "code",
   "execution_count": null,
   "metadata": {},
   "outputs": [],
   "source": []
  }
 ],
 "metadata": {
  "kernelspec": {
   "display_name": "Python 3",
   "language": "python",
   "name": "python3"
  },
  "language_info": {
   "codemirror_mode": {
    "name": "ipython",
    "version": 3
   },
   "file_extension": ".py",
   "mimetype": "text/x-python",
   "name": "python",
   "nbconvert_exporter": "python",
   "pygments_lexer": "ipython3",
   "version": "3.7.3"
  }
 },
 "nbformat": 4,
 "nbformat_minor": 2
}
